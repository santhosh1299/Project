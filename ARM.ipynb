{
 "cells": [
  {
   "cell_type": "code",
   "execution_count": 5,
   "metadata": {
    "vscode": {
     "languageId": "r"
    }
   },
   "outputs": [
    {
     "name": "stderr",
     "output_type": "stream",
     "text": [
      "── \u001b[1mAttaching core tidyverse packages\u001b[22m ──────────────────────── tidyverse 2.0.0 ──\n",
      "\u001b[32m✔\u001b[39m \u001b[34mdplyr    \u001b[39m 1.1.4     \u001b[32m✔\u001b[39m \u001b[34mreadr    \u001b[39m 2.1.5\n",
      "\u001b[32m✔\u001b[39m \u001b[34mforcats  \u001b[39m 1.0.0     \u001b[32m✔\u001b[39m \u001b[34mstringr  \u001b[39m 1.5.1\n",
      "\u001b[32m✔\u001b[39m \u001b[34mggplot2  \u001b[39m 3.4.4     \u001b[32m✔\u001b[39m \u001b[34mtibble   \u001b[39m 3.2.1\n",
      "\u001b[32m✔\u001b[39m \u001b[34mlubridate\u001b[39m 1.9.3     \u001b[32m✔\u001b[39m \u001b[34mtidyr    \u001b[39m 1.3.1\n",
      "\u001b[32m✔\u001b[39m \u001b[34mpurrr    \u001b[39m 1.0.2     \n",
      "── \u001b[1mConflicts\u001b[22m ────────────────────────────────────────── tidyverse_conflicts() ──\n",
      "\u001b[31m✖\u001b[39m \u001b[34mdplyr\u001b[39m::\u001b[32mfilter()\u001b[39m masks \u001b[34mstats\u001b[39m::filter()\n",
      "\u001b[31m✖\u001b[39m \u001b[34mdplyr\u001b[39m::\u001b[32mlag()\u001b[39m    masks \u001b[34mstats\u001b[39m::lag()\n",
      "\u001b[36mℹ\u001b[39m Use the conflicted package (\u001b[3m\u001b[34m<http://conflicted.r-lib.org/>\u001b[39m\u001b[23m) to force all conflicts to become errors\n"
     ]
    }
   ],
   "source": [
    "library(tidyverse)"
   ]
  },
  {
   "cell_type": "code",
   "execution_count": 1,
   "metadata": {
    "vscode": {
     "languageId": "r"
    }
   },
   "outputs": [],
   "source": [
    "df <- read.csv(\"data/Transaction data/Supermart Grocery Sales - Retail Analytics Dataset.csv\")"
   ]
  },
  {
   "cell_type": "code",
   "execution_count": 2,
   "metadata": {
    "vscode": {
     "languageId": "r"
    }
   },
   "outputs": [
    {
     "data": {
      "text/html": [
       "<table class=\"dataframe\">\n",
       "<caption>A data.frame: 6 × 11</caption>\n",
       "<thead>\n",
       "\t<tr><th></th><th scope=col>Order.ID</th><th scope=col>Customer.Name</th><th scope=col>Category</th><th scope=col>Sub.Category</th><th scope=col>City</th><th scope=col>Order.Date</th><th scope=col>Region</th><th scope=col>Sales</th><th scope=col>Discount</th><th scope=col>Profit</th><th scope=col>State</th></tr>\n",
       "\t<tr><th></th><th scope=col>&lt;chr&gt;</th><th scope=col>&lt;chr&gt;</th><th scope=col>&lt;chr&gt;</th><th scope=col>&lt;chr&gt;</th><th scope=col>&lt;chr&gt;</th><th scope=col>&lt;chr&gt;</th><th scope=col>&lt;chr&gt;</th><th scope=col>&lt;int&gt;</th><th scope=col>&lt;dbl&gt;</th><th scope=col>&lt;dbl&gt;</th><th scope=col>&lt;chr&gt;</th></tr>\n",
       "</thead>\n",
       "<tbody>\n",
       "\t<tr><th scope=row>1</th><td>OD1</td><td>Harish </td><td><span style=white-space:pre-wrap>Oil &amp; Masala    </span></td><td><span style=white-space:pre-wrap>Masalas         </span></td><td><span style=white-space:pre-wrap>Vellore    </span></td><td>11-08-2017</td><td>North</td><td>1254</td><td>0.12</td><td>401.28</td><td>Tamil Nadu</td></tr>\n",
       "\t<tr><th scope=row>2</th><td>OD2</td><td>Sudha  </td><td>Beverages       </td><td>Health Drinks   </td><td>Krishnagiri</td><td>11-08-2017</td><td>South</td><td> 749</td><td>0.18</td><td>149.80</td><td>Tamil Nadu</td></tr>\n",
       "\t<tr><th scope=row>3</th><td>OD3</td><td>Hussain</td><td><span style=white-space:pre-wrap>Food Grains     </span></td><td><span style=white-space:pre-wrap>Atta &amp; Flour    </span></td><td>Perambalur </td><td>06-12-2017</td><td>West </td><td>2360</td><td>0.21</td><td>165.20</td><td>Tamil Nadu</td></tr>\n",
       "\t<tr><th scope=row>4</th><td>OD4</td><td>Jackson</td><td>Fruits &amp; Veggies</td><td>Fresh Vegetables</td><td>Dharmapuri </td><td>10-11-2016</td><td>South</td><td> 896</td><td>0.25</td><td> 89.60</td><td>Tamil Nadu</td></tr>\n",
       "\t<tr><th scope=row>5</th><td>OD5</td><td>Ridhesh</td><td>Food Grains     </td><td>Organic Staples </td><td>Ooty       </td><td>10-11-2016</td><td>South</td><td>2355</td><td>0.26</td><td>918.45</td><td>Tamil Nadu</td></tr>\n",
       "\t<tr><th scope=row>6</th><td>OD6</td><td>Adavan </td><td>Food Grains     </td><td>Organic Staples </td><td>Dharmapuri </td><td>06-09-2015</td><td>West </td><td>2305</td><td>0.26</td><td>322.70</td><td>Tamil Nadu</td></tr>\n",
       "</tbody>\n",
       "</table>\n"
      ],
      "text/latex": [
       "A data.frame: 6 × 11\n",
       "\\begin{tabular}{r|lllllllllll}\n",
       "  & Order.ID & Customer.Name & Category & Sub.Category & City & Order.Date & Region & Sales & Discount & Profit & State\\\\\n",
       "  & <chr> & <chr> & <chr> & <chr> & <chr> & <chr> & <chr> & <int> & <dbl> & <dbl> & <chr>\\\\\n",
       "\\hline\n",
       "\t1 & OD1 & Harish  & Oil \\& Masala     & Masalas          & Vellore     & 11-08-2017 & North & 1254 & 0.12 & 401.28 & Tamil Nadu\\\\\n",
       "\t2 & OD2 & Sudha   & Beverages        & Health Drinks    & Krishnagiri & 11-08-2017 & South &  749 & 0.18 & 149.80 & Tamil Nadu\\\\\n",
       "\t3 & OD3 & Hussain & Food Grains      & Atta \\& Flour     & Perambalur  & 06-12-2017 & West  & 2360 & 0.21 & 165.20 & Tamil Nadu\\\\\n",
       "\t4 & OD4 & Jackson & Fruits \\& Veggies & Fresh Vegetables & Dharmapuri  & 10-11-2016 & South &  896 & 0.25 &  89.60 & Tamil Nadu\\\\\n",
       "\t5 & OD5 & Ridhesh & Food Grains      & Organic Staples  & Ooty        & 10-11-2016 & South & 2355 & 0.26 & 918.45 & Tamil Nadu\\\\\n",
       "\t6 & OD6 & Adavan  & Food Grains      & Organic Staples  & Dharmapuri  & 06-09-2015 & West  & 2305 & 0.26 & 322.70 & Tamil Nadu\\\\\n",
       "\\end{tabular}\n"
      ],
      "text/markdown": [
       "\n",
       "A data.frame: 6 × 11\n",
       "\n",
       "| <!--/--> | Order.ID &lt;chr&gt; | Customer.Name &lt;chr&gt; | Category &lt;chr&gt; | Sub.Category &lt;chr&gt; | City &lt;chr&gt; | Order.Date &lt;chr&gt; | Region &lt;chr&gt; | Sales &lt;int&gt; | Discount &lt;dbl&gt; | Profit &lt;dbl&gt; | State &lt;chr&gt; |\n",
       "|---|---|---|---|---|---|---|---|---|---|---|---|\n",
       "| 1 | OD1 | Harish  | Oil &amp; Masala     | Masalas          | Vellore     | 11-08-2017 | North | 1254 | 0.12 | 401.28 | Tamil Nadu |\n",
       "| 2 | OD2 | Sudha   | Beverages        | Health Drinks    | Krishnagiri | 11-08-2017 | South |  749 | 0.18 | 149.80 | Tamil Nadu |\n",
       "| 3 | OD3 | Hussain | Food Grains      | Atta &amp; Flour     | Perambalur  | 06-12-2017 | West  | 2360 | 0.21 | 165.20 | Tamil Nadu |\n",
       "| 4 | OD4 | Jackson | Fruits &amp; Veggies | Fresh Vegetables | Dharmapuri  | 10-11-2016 | South |  896 | 0.25 |  89.60 | Tamil Nadu |\n",
       "| 5 | OD5 | Ridhesh | Food Grains      | Organic Staples  | Ooty        | 10-11-2016 | South | 2355 | 0.26 | 918.45 | Tamil Nadu |\n",
       "| 6 | OD6 | Adavan  | Food Grains      | Organic Staples  | Dharmapuri  | 06-09-2015 | West  | 2305 | 0.26 | 322.70 | Tamil Nadu |\n",
       "\n"
      ],
      "text/plain": [
       "  Order.ID Customer.Name Category         Sub.Category     City       \n",
       "1 OD1      Harish        Oil & Masala     Masalas          Vellore    \n",
       "2 OD2      Sudha         Beverages        Health Drinks    Krishnagiri\n",
       "3 OD3      Hussain       Food Grains      Atta & Flour     Perambalur \n",
       "4 OD4      Jackson       Fruits & Veggies Fresh Vegetables Dharmapuri \n",
       "5 OD5      Ridhesh       Food Grains      Organic Staples  Ooty       \n",
       "6 OD6      Adavan        Food Grains      Organic Staples  Dharmapuri \n",
       "  Order.Date Region Sales Discount Profit State     \n",
       "1 11-08-2017 North  1254  0.12     401.28 Tamil Nadu\n",
       "2 11-08-2017 South   749  0.18     149.80 Tamil Nadu\n",
       "3 06-12-2017 West   2360  0.21     165.20 Tamil Nadu\n",
       "4 10-11-2016 South   896  0.25      89.60 Tamil Nadu\n",
       "5 10-11-2016 South  2355  0.26     918.45 Tamil Nadu\n",
       "6 06-09-2015 West   2305  0.26     322.70 Tamil Nadu"
      ]
     },
     "metadata": {},
     "output_type": "display_data"
    }
   ],
   "source": [
    "head(df)"
   ]
  },
  {
   "cell_type": "code",
   "execution_count": 7,
   "metadata": {
    "vscode": {
     "languageId": "r"
    }
   },
   "outputs": [
    {
     "name": "stderr",
     "output_type": "stream",
     "text": [
      "\u001b[1m\u001b[22m`summarise()` has grouped output by 'Order.Date', 'Customer.Name'. You can\n",
      "override using the `.groups` argument.\n"
     ]
    },
    {
     "name": "stdout",
     "output_type": "stream",
     "text": [
      "\u001b[90m# A tibble: 9,940 × 4\u001b[39m\n",
      "   Order.Date Customer.Name Sub.Category      Count\n",
      "   \u001b[3m\u001b[90m<chr>\u001b[39m\u001b[23m      \u001b[3m\u001b[90m<chr>\u001b[39m\u001b[23m         \u001b[3m\u001b[90m<chr>\u001b[39m\u001b[23m             \u001b[3m\u001b[90m<int>\u001b[39m\u001b[23m\n",
      "\u001b[90m 1\u001b[39m 01-01-2018 Adavan        Masalas               1\n",
      "\u001b[90m 2\u001b[39m 01-01-2018 Ram           Soft Drinks           1\n",
      "\u001b[90m 3\u001b[39m 01-01-2018 Rumaiza       Chicken               1\n",
      "\u001b[90m 4\u001b[39m 01-01-2018 Sabeela       Atta & Flour          1\n",
      "\u001b[90m 5\u001b[39m 01-01-2018 Sheeba        Breads & Buns         1\n",
      "\u001b[90m 6\u001b[39m 01-01-2018 Surya         Edible Oil & Ghee     1\n",
      "\u001b[90m 7\u001b[39m 01-01-2018 Vidya         Soft Drinks           1\n",
      "\u001b[90m 8\u001b[39m 01-01-2018 Vinne         Cookies               1\n",
      "\u001b[90m 9\u001b[39m 01-01-2018 Yadav         Cookies               1\n",
      "\u001b[90m10\u001b[39m 01-01-2018 Yusuf         Fresh Vegetables      1\n",
      "\u001b[90m# ℹ 9,930 more rows\u001b[39m\n"
     ]
    }
   ],
   "source": [
    "\n",
    "df$Order_Date <- as.Date(df$Order.Date)\n",
    "\n",
    "# Group the data by 'Order Date', 'Customer Name', and 'Sub Category', and count the occurrences\n",
    "customer_purchase <- df %>%\n",
    "  group_by(Order.Date, Customer.Name, Sub.Category) %>%\n",
    "  summarise(Count = n()) %>%\n",
    "  ungroup()\n",
    "\n",
    "# Print the result\n",
    "print(customer_purchase)"
   ]
  },
  {
   "cell_type": "code",
   "execution_count": 9,
   "metadata": {
    "vscode": {
     "languageId": "r"
    }
   },
   "outputs": [
    {
     "name": "stderr",
     "output_type": "stream",
     "text": [
      "\u001b[1m\u001b[22m`summarise()` has grouped output by 'Order.Date'. You can override using the\n",
      "`.groups` argument.\n"
     ]
    },
    {
     "name": "stdout",
     "output_type": "stream",
     "text": [
      "\u001b[90m# A tibble: 8,899 × 3\u001b[39m\n",
      "   Order.Date Customer.Name Sub_Categories\n",
      "   \u001b[3m\u001b[90m<chr>\u001b[39m\u001b[23m      \u001b[3m\u001b[90m<chr>\u001b[39m\u001b[23m         \u001b[3m\u001b[90m<list>\u001b[39m\u001b[23m        \n",
      "\u001b[90m 1\u001b[39m 01-01-2018 Adavan        \u001b[90m<chr [1]>\u001b[39m     \n",
      "\u001b[90m 2\u001b[39m 01-01-2018 Ram           \u001b[90m<chr [1]>\u001b[39m     \n",
      "\u001b[90m 3\u001b[39m 01-01-2018 Rumaiza       \u001b[90m<chr [1]>\u001b[39m     \n",
      "\u001b[90m 4\u001b[39m 01-01-2018 Sabeela       \u001b[90m<chr [1]>\u001b[39m     \n",
      "\u001b[90m 5\u001b[39m 01-01-2018 Sheeba        \u001b[90m<chr [1]>\u001b[39m     \n",
      "\u001b[90m 6\u001b[39m 01-01-2018 Surya         \u001b[90m<chr [1]>\u001b[39m     \n",
      "\u001b[90m 7\u001b[39m 01-01-2018 Vidya         \u001b[90m<chr [1]>\u001b[39m     \n",
      "\u001b[90m 8\u001b[39m 01-01-2018 Vinne         \u001b[90m<chr [1]>\u001b[39m     \n",
      "\u001b[90m 9\u001b[39m 01-01-2018 Yadav         \u001b[90m<chr [1]>\u001b[39m     \n",
      "\u001b[90m10\u001b[39m 01-01-2018 Yusuf         \u001b[90m<chr [1]>\u001b[39m     \n",
      "\u001b[90m# ℹ 8,889 more rows\u001b[39m\n"
     ]
    }
   ],
   "source": [
    "df$Order_Date <- as.Date(df$Order.Date)\n",
    "\n",
    "# Group the data by 'Order Date' and 'Customer Name', and aggregate the sub-categories into a list\n",
    "customer_purchase <- df %>%\n",
    "  group_by(Order.Date, Customer.Name) %>%\n",
    "  summarise(Sub_Categories = list(unique(Sub.Category))) %>%\n",
    "  ungroup()\n",
    "\n",
    "# Print the result\n",
    "print(customer_purchase)"
   ]
  },
  {
   "cell_type": "code",
   "execution_count": 63,
   "metadata": {
    "vscode": {
     "languageId": "r"
    }
   },
   "outputs": [
    {
     "data": {
      "text/html": [
       "<table class=\"dataframe\">\n",
       "<caption>A tibble: 6 × 1</caption>\n",
       "<thead>\n",
       "\t<tr><th scope=col>Sub_Categories</th></tr>\n",
       "\t<tr><th scope=col>&lt;list&gt;</th></tr>\n",
       "</thead>\n",
       "<tbody>\n",
       "\t<tr><td>Masalas</td></tr>\n",
       "\t<tr><td>Soft Drinks</td></tr>\n",
       "\t<tr><td>Chicken</td></tr>\n",
       "\t<tr><td>Atta &amp; Flour</td></tr>\n",
       "\t<tr><td>Breads &amp; Buns</td></tr>\n",
       "\t<tr><td>Edible Oil &amp; Ghee</td></tr>\n",
       "</tbody>\n",
       "</table>\n"
      ],
      "text/latex": [
       "A tibble: 6 × 1\n",
       "\\begin{tabular}{l}\n",
       " Sub\\_Categories\\\\\n",
       " <list>\\\\\n",
       "\\hline\n",
       "\t Masalas\\\\\n",
       "\t Soft Drinks\\\\\n",
       "\t Chicken\\\\\n",
       "\t Atta \\& Flour\\\\\n",
       "\t Breads \\& Buns\\\\\n",
       "\t Edible Oil \\& Ghee\\\\\n",
       "\\end{tabular}\n"
      ],
      "text/markdown": [
       "\n",
       "A tibble: 6 × 1\n",
       "\n",
       "| Sub_Categories &lt;list&gt; |\n",
       "|---|\n",
       "| Masalas |\n",
       "| Soft Drinks |\n",
       "| Chicken |\n",
       "| Atta &amp; Flour |\n",
       "| Breads &amp; Buns |\n",
       "| Edible Oil &amp; Ghee |\n",
       "\n"
      ],
      "text/plain": [
       "  Sub_Categories   \n",
       "1 Masalas          \n",
       "2 Soft Drinks      \n",
       "3 Chicken          \n",
       "4 Atta & Flour     \n",
       "5 Breads & Buns    \n",
       "6 Edible Oil & Ghee"
      ]
     },
     "metadata": {},
     "output_type": "display_data"
    }
   ],
   "source": [
    "head(customer_purchase['Sub_Categories'])"
   ]
  },
  {
   "cell_type": "code",
   "execution_count": 21,
   "metadata": {
    "vscode": {
     "languageId": "r"
    }
   },
   "outputs": [
    {
     "data": {
      "text/html": [
       "<table class=\"dataframe\">\n",
       "<caption>A tibble: 6 × 4</caption>\n",
       "<thead>\n",
       "\t<tr><th scope=col>Order.Date</th><th scope=col>Customer.Name</th><th scope=col>Sub_Categories</th><th scope=col>Sub_Categories_Count</th></tr>\n",
       "\t<tr><th scope=col>&lt;chr&gt;</th><th scope=col>&lt;chr&gt;</th><th scope=col>&lt;list&gt;</th><th scope=col>&lt;int&gt;</th></tr>\n",
       "</thead>\n",
       "<tbody>\n",
       "\t<tr><td>01-01-2018</td><td>Adavan </td><td>Masalas</td><td>1</td></tr>\n",
       "\t<tr><td>01-01-2018</td><td>Ram    </td><td>Soft Drinks</td><td>1</td></tr>\n",
       "\t<tr><td>01-01-2018</td><td>Rumaiza</td><td>Chicken</td><td>1</td></tr>\n",
       "\t<tr><td>01-01-2018</td><td>Sabeela</td><td>Atta &amp; Flour</td><td>1</td></tr>\n",
       "\t<tr><td>01-01-2018</td><td>Sheeba </td><td>Breads &amp; Buns</td><td>1</td></tr>\n",
       "\t<tr><td>01-01-2018</td><td><span style=white-space:pre-wrap>Surya  </span></td><td>Edible Oil &amp; Ghee</td><td>1</td></tr>\n",
       "</tbody>\n",
       "</table>\n"
      ],
      "text/latex": [
       "A tibble: 6 × 4\n",
       "\\begin{tabular}{llll}\n",
       " Order.Date & Customer.Name & Sub\\_Categories & Sub\\_Categories\\_Count\\\\\n",
       " <chr> & <chr> & <list> & <int>\\\\\n",
       "\\hline\n",
       "\t 01-01-2018 & Adavan  & Masalas & 1\\\\\n",
       "\t 01-01-2018 & Ram     & Soft Drinks & 1\\\\\n",
       "\t 01-01-2018 & Rumaiza & Chicken & 1\\\\\n",
       "\t 01-01-2018 & Sabeela & Atta \\& Flour & 1\\\\\n",
       "\t 01-01-2018 & Sheeba  & Breads \\& Buns & 1\\\\\n",
       "\t 01-01-2018 & Surya   & Edible Oil \\& Ghee & 1\\\\\n",
       "\\end{tabular}\n"
      ],
      "text/markdown": [
       "\n",
       "A tibble: 6 × 4\n",
       "\n",
       "| Order.Date &lt;chr&gt; | Customer.Name &lt;chr&gt; | Sub_Categories &lt;list&gt; | Sub_Categories_Count &lt;int&gt; |\n",
       "|---|---|---|---|\n",
       "| 01-01-2018 | Adavan  | Masalas | 1 |\n",
       "| 01-01-2018 | Ram     | Soft Drinks | 1 |\n",
       "| 01-01-2018 | Rumaiza | Chicken | 1 |\n",
       "| 01-01-2018 | Sabeela | Atta &amp; Flour | 1 |\n",
       "| 01-01-2018 | Sheeba  | Breads &amp; Buns | 1 |\n",
       "| 01-01-2018 | Surya   | Edible Oil &amp; Ghee | 1 |\n",
       "\n"
      ],
      "text/plain": [
       "  Order.Date Customer.Name Sub_Categories    Sub_Categories_Count\n",
       "1 01-01-2018 Adavan        Masalas           1                   \n",
       "2 01-01-2018 Ram           Soft Drinks       1                   \n",
       "3 01-01-2018 Rumaiza       Chicken           1                   \n",
       "4 01-01-2018 Sabeela       Atta & Flour      1                   \n",
       "5 01-01-2018 Sheeba        Breads & Buns     1                   \n",
       "6 01-01-2018 Surya         Edible Oil & Ghee 1                   "
      ]
     },
     "metadata": {},
     "output_type": "display_data"
    }
   ],
   "source": [
    "head(customer_purchase)"
   ]
  },
  {
   "cell_type": "code",
   "execution_count": 40,
   "metadata": {
    "vscode": {
     "languageId": "r"
    }
   },
   "outputs": [],
   "source": [
    "df1 <- customer_purchase %>%\n",
    "  select(Sub_Categories,Sub_Categories_Count ) %>%\n",
    "  filter(Sub_Categories_Count >= 1)\n"
   ]
  },
  {
   "cell_type": "code",
   "execution_count": null,
   "metadata": {
    "vscode": {
     "languageId": "r"
    }
   },
   "outputs": [],
   "source": [
    "transact_data <- list(df1$Sub_Categories)\n",
    "transact_data"
   ]
  },
  {
   "cell_type": "code",
   "execution_count": 42,
   "metadata": {
    "vscode": {
     "languageId": "r"
    }
   },
   "outputs": [
    {
     "name": "stdout",
     "output_type": "stream",
     "text": [
      "Apriori\n",
      "\n",
      "Parameter specification:\n",
      " confidence minval smax arem  aval originalSupport maxtime support minlen\n",
      "        0.5    0.1    1 none FALSE            TRUE       5   1e-05      1\n",
      " maxlen target  ext\n",
      "     10  rules TRUE\n",
      "\n",
      "Algorithmic control:\n",
      " filter tree heap memopt load sort verbose\n",
      "    0.1 TRUE TRUE  FALSE TRUE    2    TRUE\n",
      "\n",
      "Absolute minimum support count: 0 \n",
      "\n",
      "set item appearances ...[0 item(s)] done [0.00s].\n",
      "set transactions ...[23 item(s), 8899 transaction(s)] done [0.00s].\n",
      "sorting and recoding items ... [23 item(s)] done [0.00s].\n",
      "creating transaction tree ... done [0.00s].\n",
      "checking subsets of size 1 2 3 4 5 done [0.00s].\n",
      "writing ... [89 rule(s)] done [0.00s].\n",
      "creating S4 object  ... done [0.00s].\n",
      "     lhs                     rhs                      support confidence     coverage      lift count\n",
      "[1]  {Atta & Flour,                                                                                  \n",
      "      Rice}               => {Spices}            0.0002247444  0.6666667 0.0003371165 13.422323     2\n",
      "[2]  {Atta & Flour,                                                                                  \n",
      "      Spices}             => {Rice}              0.0002247444  0.5000000 0.0004494887 13.565549     2\n",
      "[3]  {Fresh Fruits,                                                                                  \n",
      "      Rice}               => {Health Drinks}     0.0001123722  0.5000000 0.0002247444  6.223077     1\n",
      "[4]  {Atta & Flour,                                                                                  \n",
      "      Fresh Fruits}       => {Biscuits}          0.0001123722  0.5000000 0.0002247444  9.757675     1\n",
      "[5]  {Chocolates,                                                                                    \n",
      "      Fresh Vegetables}   => {Eggs}              0.0001123722  0.5000000 0.0002247444 11.740106     1\n",
      "[6]  {Fresh Vegetables,                                                                              \n",
      "      Spices}             => {Biscuits}          0.0001123722  0.5000000 0.0002247444  9.757675     1\n",
      "[7]  {Fresh Vegetables,                                                                              \n",
      "      Spices}             => {Breads & Buns}     0.0001123722  0.5000000 0.0002247444  8.934739     1\n",
      "[8]  {Fresh Vegetables,                                                                              \n",
      "      Spices}             => {Soft Drinks}       0.0001123722  0.5000000 0.0002247444  6.601632     1\n",
      "[9]  {Fresh Vegetables,                                                                              \n",
      "      Masalas}            => {Biscuits}          0.0002247444  0.6666667 0.0003371165 13.010234     2\n",
      "[10] {Fresh Vegetables,                                                                              \n",
      "      Soft Drinks}        => {Breads & Buns}     0.0002247444  0.5000000 0.0004494887  8.934739     2\n",
      "[11] {Dals & Pulses,                                                                                 \n",
      "      Eggs}               => {Soft Drinks}       0.0001123722  0.5000000 0.0002247444  6.601632     1\n",
      "[12] {Dals & Pulses,                                                                                 \n",
      "      Eggs}               => {Health Drinks}     0.0001123722  0.5000000 0.0002247444  6.223077     1\n",
      "[13] {Dals & Pulses,                                                                                 \n",
      "      Noodles}            => {Cookies}           0.0001123722  0.5000000 0.0002247444  8.589768     1\n",
      "[14] {Chicken,                                                                                       \n",
      "      Fish}               => {Organic Fruits}    0.0001123722  0.5000000 0.0002247444 12.859827     1\n",
      "[15] {Breads & Buns,                                                                                 \n",
      "      Fish}               => {Organic Fruits}    0.0001123722  0.5000000 0.0002247444 12.859827     1\n",
      "[16] {Chocolates,                                                                                    \n",
      "      Organic Fruits}     => {Cookies}           0.0001123722  0.5000000 0.0002247444  8.589768     1\n",
      "[17] {Chicken,                                                                                       \n",
      "      Fish}               => {Edible Oil & Ghee} 0.0001123722  0.5000000 0.0002247444  9.865854     1\n",
      "[18] {Fresh Fruits,                                                                                  \n",
      "      Organic Staples}    => {Soft Drinks}       0.0001123722  0.5000000 0.0002247444  6.601632     1\n",
      "[19] {Eggs,                                                                                          \n",
      "      Fresh Fruits}       => {Biscuits}          0.0001123722  0.5000000 0.0002247444  9.757675     1\n",
      "[20] {Edible Oil & Ghee,                                                                             \n",
      "      Fresh Fruits}       => {Biscuits}          0.0001123722  0.5000000 0.0002247444  9.757675     1\n",
      "[21] {Edible Oil & Ghee,                                                                             \n",
      "      Fresh Fruits}       => {Breads & Buns}     0.0001123722  0.5000000 0.0002247444  8.934739     1\n",
      "[22] {Masalas,                                                                                       \n",
      "      Mutton}             => {Organic Staples}   0.0001123722  1.0000000 0.0001123722 23.922043     1\n",
      "[23] {Breads & Buns,                                                                                 \n",
      "      Organic Staples}    => {Cookies}           0.0002247444  0.5000000 0.0004494887  8.589768     2\n",
      "[24] {Cookies,                                                                                       \n",
      "      Organic Staples}    => {Breads & Buns}     0.0002247444  0.5000000 0.0004494887  8.934739     2\n",
      "[25] {Chicken,                                                                                       \n",
      "      Edible Oil & Ghee,                                                                             \n",
      "      Rice}               => {Soft Drinks}       0.0001123722  1.0000000 0.0001123722 13.203264     1\n",
      "[26] {Chicken,                                                                                       \n",
      "      Rice,                                                                                          \n",
      "      Soft Drinks}        => {Edible Oil & Ghee} 0.0001123722  1.0000000 0.0001123722 19.731707     1\n",
      "[27] {Edible Oil & Ghee,                                                                             \n",
      "      Rice,                                                                                          \n",
      "      Soft Drinks}        => {Chicken}           0.0001123722  1.0000000 0.0001123722 25.645533     1\n",
      "[28] {Chicken,                                                                                       \n",
      "      Edible Oil & Ghee,                                                                             \n",
      "      Soft Drinks}        => {Rice}              0.0001123722  1.0000000 0.0001123722 27.131098     1\n",
      "[29] {Cakes,                                                                                         \n",
      "      Rice,                                                                                          \n",
      "      Spices}             => {Biscuits}          0.0001123722  1.0000000 0.0001123722 19.515351     1\n",
      "[30] {Biscuits,                                                                                      \n",
      "      Cakes,                                                                                         \n",
      "      Rice}               => {Spices}            0.0001123722  1.0000000 0.0001123722 20.133484     1\n",
      "[31] {Biscuits,                                                                                      \n",
      "      Rice,                                                                                          \n",
      "      Spices}             => {Cakes}             0.0001123722  1.0000000 0.0001123722 19.775556     1\n",
      "[32] {Biscuits,                                                                                      \n",
      "      Cakes,                                                                                         \n",
      "      Spices}             => {Rice}              0.0001123722  1.0000000 0.0001123722 27.131098     1\n",
      "[33] {Breads & Buns,                                                                                 \n",
      "      Chicken,                                                                                       \n",
      "      Fresh Vegetables}   => {Soft Drinks}       0.0001123722  1.0000000 0.0001123722 13.203264     1\n",
      "[34] {Chicken,                                                                                       \n",
      "      Fresh Vegetables,                                                                              \n",
      "      Soft Drinks}        => {Breads & Buns}     0.0001123722  1.0000000 0.0001123722 17.869478     1\n",
      "[35] {Breads & Buns,                                                                                 \n",
      "      Fresh Vegetables,                                                                              \n",
      "      Soft Drinks}        => {Chicken}           0.0001123722  0.5000000 0.0002247444 12.822767     1\n",
      "[36] {Breads & Buns,                                                                                 \n",
      "      Chicken,                                                                                       \n",
      "      Soft Drinks}        => {Fresh Vegetables}  0.0001123722  1.0000000 0.0001123722 25.353276     1\n",
      "[37] {Biscuits,                                                                                      \n",
      "      Fresh Vegetables,                                                                              \n",
      "      Spices}             => {Breads & Buns}     0.0001123722  1.0000000 0.0001123722 17.869478     1\n",
      "[38] {Breads & Buns,                                                                                 \n",
      "      Fresh Vegetables,                                                                              \n",
      "      Spices}             => {Biscuits}          0.0001123722  1.0000000 0.0001123722 19.515351     1\n",
      "[39] {Biscuits,                                                                                      \n",
      "      Breads & Buns,                                                                                 \n",
      "      Fresh Vegetables}   => {Spices}            0.0001123722  1.0000000 0.0001123722 20.133484     1\n",
      "[40] {Biscuits,                                                                                      \n",
      "      Breads & Buns,                                                                                 \n",
      "      Spices}             => {Fresh Vegetables}  0.0001123722  1.0000000 0.0001123722 25.353276     1\n",
      "[41] {Biscuits,                                                                                      \n",
      "      Fresh Vegetables,                                                                              \n",
      "      Spices}             => {Soft Drinks}       0.0001123722  1.0000000 0.0001123722 13.203264     1\n",
      "[42] {Fresh Vegetables,                                                                              \n",
      "      Soft Drinks,                                                                                   \n",
      "      Spices}             => {Biscuits}          0.0001123722  1.0000000 0.0001123722 19.515351     1\n",
      "[43] {Biscuits,                                                                                      \n",
      "      Fresh Vegetables,                                                                              \n",
      "      Soft Drinks}        => {Spices}            0.0001123722  1.0000000 0.0001123722 20.133484     1\n",
      "[44] {Biscuits,                                                                                      \n",
      "      Soft Drinks,                                                                                   \n",
      "      Spices}             => {Fresh Vegetables}  0.0001123722  1.0000000 0.0001123722 25.353276     1\n",
      "[45] {Breads & Buns,                                                                                 \n",
      "      Fresh Vegetables,                                                                              \n",
      "      Spices}             => {Soft Drinks}       0.0001123722  1.0000000 0.0001123722 13.203264     1\n",
      "[46] {Fresh Vegetables,                                                                              \n",
      "      Soft Drinks,                                                                                   \n",
      "      Spices}             => {Breads & Buns}     0.0001123722  1.0000000 0.0001123722 17.869478     1\n",
      "[47] {Breads & Buns,                                                                                 \n",
      "      Fresh Vegetables,                                                                              \n",
      "      Soft Drinks}        => {Spices}            0.0001123722  0.5000000 0.0002247444 10.066742     1\n",
      "[48] {Breads & Buns,                                                                                 \n",
      "      Soft Drinks,                                                                                   \n",
      "      Spices}             => {Fresh Vegetables}  0.0001123722  0.5000000 0.0002247444 12.676638     1\n",
      "[49] {Biscuits,                                                                                      \n",
      "      Fresh Vegetables,                                                                              \n",
      "      Masalas}            => {Cookies}           0.0001123722  0.5000000 0.0002247444  8.589768     1\n",
      "[50] {Biscuits,                                                                                      \n",
      "      Cookies,                                                                                       \n",
      "      Fresh Vegetables}   => {Masalas}           0.0001123722  1.0000000 0.0001123722 19.303688     1\n",
      "[51] {Cookies,                                                                                       \n",
      "      Fresh Vegetables,                                                                              \n",
      "      Masalas}            => {Biscuits}          0.0001123722  1.0000000 0.0001123722 19.515351     1\n",
      "[52] {Biscuits,                                                                                      \n",
      "      Cookies,                                                                                       \n",
      "      Masalas}            => {Fresh Vegetables}  0.0001123722  1.0000000 0.0001123722 25.353276     1\n",
      "[53] {Biscuits,                                                                                      \n",
      "      Breads & Buns,                                                                                 \n",
      "      Fresh Vegetables}   => {Soft Drinks}       0.0001123722  1.0000000 0.0001123722 13.203264     1\n",
      "[54] {Biscuits,                                                                                      \n",
      "      Fresh Vegetables,                                                                              \n",
      "      Soft Drinks}        => {Breads & Buns}     0.0001123722  1.0000000 0.0001123722 17.869478     1\n",
      "[55] {Breads & Buns,                                                                                 \n",
      "      Fresh Vegetables,                                                                              \n",
      "      Soft Drinks}        => {Biscuits}          0.0001123722  0.5000000 0.0002247444  9.757675     1\n",
      "[56] {Biscuits,                                                                                      \n",
      "      Breads & Buns,                                                                                 \n",
      "      Soft Drinks}        => {Fresh Vegetables}  0.0001123722  1.0000000 0.0001123722 25.353276     1\n",
      "[57] {Dals & Pulses,                                                                                 \n",
      "      Eggs,                                                                                          \n",
      "      Soft Drinks}        => {Health Drinks}     0.0001123722  1.0000000 0.0001123722 12.446154     1\n",
      "[58] {Dals & Pulses,                                                                                 \n",
      "      Eggs,                                                                                          \n",
      "      Health Drinks}      => {Soft Drinks}       0.0001123722  1.0000000 0.0001123722 13.203264     1\n",
      "[59] {Dals & Pulses,                                                                                 \n",
      "      Health Drinks,                                                                                 \n",
      "      Soft Drinks}        => {Eggs}              0.0001123722  1.0000000 0.0001123722 23.480211     1\n",
      "[60] {Eggs,                                                                                          \n",
      "      Health Drinks,                                                                                 \n",
      "      Soft Drinks}        => {Dals & Pulses}     0.0001123722  1.0000000 0.0001123722 26.096774     1\n",
      "[61] {Chicken,                                                                                       \n",
      "      Fish,                                                                                          \n",
      "      Organic Fruits}     => {Edible Oil & Ghee} 0.0001123722  1.0000000 0.0001123722 19.731707     1\n",
      "[62] {Chicken,                                                                                       \n",
      "      Edible Oil & Ghee,                                                                             \n",
      "      Organic Fruits}     => {Fish}              0.0001123722  1.0000000 0.0001123722 24.182065     1\n",
      "[63] {Edible Oil & Ghee,                                                                             \n",
      "      Fish,                                                                                          \n",
      "      Organic Fruits}     => {Chicken}           0.0001123722  1.0000000 0.0001123722 25.645533     1\n",
      "[64] {Chicken,                                                                                       \n",
      "      Edible Oil & Ghee,                                                                             \n",
      "      Fish}               => {Organic Fruits}    0.0001123722  1.0000000 0.0001123722 25.719653     1\n",
      "[65] {Chicken,                                                                                       \n",
      "      Organic Fruits,                                                                                \n",
      "      Soft Drinks}        => {Health Drinks}     0.0001123722  1.0000000 0.0001123722 12.446154     1\n",
      "[66] {Chicken,                                                                                       \n",
      "      Health Drinks,                                                                                 \n",
      "      Organic Fruits}     => {Soft Drinks}       0.0001123722  1.0000000 0.0001123722 13.203264     1\n",
      "[67] {Health Drinks,                                                                                 \n",
      "      Organic Fruits,                                                                                \n",
      "      Soft Drinks}        => {Chicken}           0.0001123722  1.0000000 0.0001123722 25.645533     1\n",
      "[68] {Chicken,                                                                                       \n",
      "      Health Drinks,                                                                                 \n",
      "      Soft Drinks}        => {Organic Fruits}    0.0001123722  0.5000000 0.0002247444 12.859827     1\n",
      "[69] {Biscuits,                                                                                      \n",
      "      Chicken,                                                                                       \n",
      "      Soft Drinks}        => {Health Drinks}     0.0001123722  1.0000000 0.0001123722 12.446154     1\n",
      "[70] {Biscuits,                                                                                      \n",
      "      Chicken,                                                                                       \n",
      "      Health Drinks}      => {Soft Drinks}       0.0001123722  1.0000000 0.0001123722 13.203264     1\n",
      "[71] {Chicken,                                                                                       \n",
      "      Health Drinks,                                                                                 \n",
      "      Soft Drinks}        => {Biscuits}          0.0001123722  0.5000000 0.0002247444  9.757675     1\n",
      "[72] {Biscuits,                                                                                      \n",
      "      Health Drinks,                                                                                 \n",
      "      Soft Drinks}        => {Chicken}           0.0001123722  1.0000000 0.0001123722 25.645533     1\n",
      "[73] {Breads & Buns,                                                                                 \n",
      "      Mutton,                                                                                        \n",
      "      Organic Staples}    => {Cookies}           0.0001123722  1.0000000 0.0001123722 17.179537     1\n",
      "[74] {Cookies,                                                                                       \n",
      "      Mutton,                                                                                        \n",
      "      Organic Staples}    => {Breads & Buns}     0.0001123722  1.0000000 0.0001123722 17.869478     1\n",
      "[75] {Breads & Buns,                                                                                 \n",
      "      Cookies,                                                                                       \n",
      "      Organic Staples}    => {Mutton}            0.0001123722  0.5000000 0.0002247444 11.379795     1\n",
      "[76] {Breads & Buns,                                                                                 \n",
      "      Cookies,                                                                                       \n",
      "      Mutton}             => {Organic Staples}   0.0001123722  1.0000000 0.0001123722 23.922043     1\n",
      "[77] {Breads & Buns,                                                                                 \n",
      "      Cookies,                                                                                       \n",
      "      Organic Staples}    => {Soft Drinks}       0.0001123722  0.5000000 0.0002247444  6.601632     1\n",
      "[78] {Breads & Buns,                                                                                 \n",
      "      Organic Staples,                                                                               \n",
      "      Soft Drinks}        => {Cookies}           0.0001123722  1.0000000 0.0001123722 17.179537     1\n",
      "[79] {Cookies,                                                                                       \n",
      "      Organic Staples,                                                                               \n",
      "      Soft Drinks}        => {Breads & Buns}     0.0001123722  1.0000000 0.0001123722 17.869478     1\n",
      "[80] {Breads & Buns,                                                                                 \n",
      "      Cookies,                                                                                       \n",
      "      Soft Drinks}        => {Organic Staples}   0.0001123722  0.5000000 0.0002247444 11.961022     1\n",
      "[81] {Biscuits,                                                                                      \n",
      "      Breads & Buns,                                                                                 \n",
      "      Spices}             => {Soft Drinks}       0.0001123722  1.0000000 0.0001123722 13.203264     1\n",
      "[82] {Biscuits,                                                                                      \n",
      "      Soft Drinks,                                                                                   \n",
      "      Spices}             => {Breads & Buns}     0.0001123722  1.0000000 0.0001123722 17.869478     1\n",
      "[83] {Breads & Buns,                                                                                 \n",
      "      Soft Drinks,                                                                                   \n",
      "      Spices}             => {Biscuits}          0.0001123722  0.5000000 0.0002247444  9.757675     1\n",
      "[84] {Biscuits,                                                                                      \n",
      "      Breads & Buns,                                                                                 \n",
      "      Soft Drinks}        => {Spices}            0.0001123722  1.0000000 0.0001123722 20.133484     1\n",
      "[85] {Biscuits,                                                                                      \n",
      "      Breads & Buns,                                                                                 \n",
      "      Fresh Vegetables,                                                                              \n",
      "      Spices}             => {Soft Drinks}       0.0001123722  1.0000000 0.0001123722 13.203264     1\n",
      "[86] {Biscuits,                                                                                      \n",
      "      Fresh Vegetables,                                                                              \n",
      "      Soft Drinks,                                                                                   \n",
      "      Spices}             => {Breads & Buns}     0.0001123722  1.0000000 0.0001123722 17.869478     1\n",
      "[87] {Breads & Buns,                                                                                 \n",
      "      Fresh Vegetables,                                                                              \n",
      "      Soft Drinks,                                                                                   \n",
      "      Spices}             => {Biscuits}          0.0001123722  1.0000000 0.0001123722 19.515351     1\n",
      "[88] {Biscuits,                                                                                      \n",
      "      Breads & Buns,                                                                                 \n",
      "      Fresh Vegetables,                                                                              \n",
      "      Soft Drinks}        => {Spices}            0.0001123722  1.0000000 0.0001123722 20.133484     1\n",
      "[89] {Biscuits,                                                                                      \n",
      "      Breads & Buns,                                                                                 \n",
      "      Soft Drinks,                                                                                   \n",
      "      Spices}             => {Fresh Vegetables}  0.0001123722  1.0000000 0.0001123722 25.353276     1\n"
     ]
    }
   ],
   "source": [
    "library(arules)\n",
    "# Convert the transaction dataset to a transactions object\n",
    "trans <- as(df1$Sub_Categories, \"transactions\")\n",
    "\n",
    "# Perform association rule mining\n",
    "rules <- apriori(trans, parameter = list(support = 0.00001, confidence = 0.5))\n",
    "\n",
    "# Print the resulting rules\n",
    "inspect(rules)"
   ]
  },
  {
   "cell_type": "code",
   "execution_count": 57,
   "metadata": {
    "vscode": {
     "languageId": "r"
    }
   },
   "outputs": [
    {
     "name": "stdout",
     "output_type": "stream",
     "text": [
      "[1] \"Top 15 rules based on support:\"\n",
      "    lhs                                 rhs             support      confidence\n",
      "[1] {Atta & Flour, Rice}             => {Spices}        0.0002247444 0.6666667 \n",
      "[2] {Atta & Flour, Spices}           => {Rice}          0.0002247444 0.5000000 \n",
      "[3] {Fresh Vegetables, Masalas}      => {Biscuits}      0.0002247444 0.6666667 \n",
      "[4] {Fresh Vegetables, Soft Drinks}  => {Breads & Buns} 0.0002247444 0.5000000 \n",
      "[5] {Breads & Buns, Organic Staples} => {Cookies}       0.0002247444 0.5000000 \n",
      "    coverage     lift      count\n",
      "[1] 0.0003371165 13.422323 2    \n",
      "[2] 0.0004494887 13.565549 2    \n",
      "[3] 0.0003371165 13.010234 2    \n",
      "[4] 0.0004494887  8.934739 2    \n",
      "[5] 0.0004494887  8.589768 2    \n"
     ]
    },
    {
     "name": "stdout",
     "output_type": "stream",
     "text": [
      "[1] \"Top 15 rules based on confidence:\"\n",
      "     lhs                     rhs                      support confidence     coverage     lift count\n",
      "[1]  {Masalas,                                                                                      \n",
      "      Mutton}             => {Organic Staples}   0.0001123722          1 0.0001123722 23.92204     1\n",
      "[2]  {Chicken,                                                                                      \n",
      "      Edible Oil & Ghee,                                                                            \n",
      "      Rice}               => {Soft Drinks}       0.0001123722          1 0.0001123722 13.20326     1\n",
      "[3]  {Chicken,                                                                                      \n",
      "      Rice,                                                                                         \n",
      "      Soft Drinks}        => {Edible Oil & Ghee} 0.0001123722          1 0.0001123722 19.73171     1\n",
      "[4]  {Edible Oil & Ghee,                                                                            \n",
      "      Rice,                                                                                         \n",
      "      Soft Drinks}        => {Chicken}           0.0001123722          1 0.0001123722 25.64553     1\n",
      "[5]  {Chicken,                                                                                      \n",
      "      Edible Oil & Ghee,                                                                            \n",
      "      Soft Drinks}        => {Rice}              0.0001123722          1 0.0001123722 27.13110     1\n",
      "[6]  {Cakes,                                                                                        \n",
      "      Rice,                                                                                         \n",
      "      Spices}             => {Biscuits}          0.0001123722          1 0.0001123722 19.51535     1\n",
      "[7]  {Biscuits,                                                                                     \n",
      "      Cakes,                                                                                        \n",
      "      Rice}               => {Spices}            0.0001123722          1 0.0001123722 20.13348     1\n",
      "[8]  {Biscuits,                                                                                     \n",
      "      Rice,                                                                                         \n",
      "      Spices}             => {Cakes}             0.0001123722          1 0.0001123722 19.77556     1\n",
      "[9]  {Biscuits,                                                                                     \n",
      "      Cakes,                                                                                        \n",
      "      Spices}             => {Rice}              0.0001123722          1 0.0001123722 27.13110     1\n",
      "[10] {Breads & Buns,                                                                                \n",
      "      Chicken,                                                                                      \n",
      "      Fresh Vegetables}   => {Soft Drinks}       0.0001123722          1 0.0001123722 13.20326     1\n",
      "[11] {Chicken,                                                                                      \n",
      "      Fresh Vegetables,                                                                             \n",
      "      Soft Drinks}        => {Breads & Buns}     0.0001123722          1 0.0001123722 17.86948     1\n",
      "[12] {Breads & Buns,                                                                                \n",
      "      Chicken,                                                                                      \n",
      "      Soft Drinks}        => {Fresh Vegetables}  0.0001123722          1 0.0001123722 25.35328     1\n",
      "[13] {Biscuits,                                                                                     \n",
      "      Fresh Vegetables,                                                                             \n",
      "      Spices}             => {Breads & Buns}     0.0001123722          1 0.0001123722 17.86948     1\n",
      "[14] {Breads & Buns,                                                                                \n",
      "      Fresh Vegetables,                                                                             \n",
      "      Spices}             => {Biscuits}          0.0001123722          1 0.0001123722 19.51535     1\n",
      "[15] {Biscuits,                                                                                     \n",
      "      Breads & Buns,                                                                                \n",
      "      Fresh Vegetables}   => {Spices}            0.0001123722          1 0.0001123722 20.13348     1\n",
      "[1] \"Top 15 rules based on lift:\"\n",
      "     lhs                     rhs                     support confidence     coverage     lift count\n",
      "[1]  {Chicken,                                                                                     \n",
      "      Edible Oil & Ghee,                                                                           \n",
      "      Soft Drinks}        => {Rice}             0.0001123722          1 0.0001123722 27.13110     1\n",
      "[2]  {Biscuits,                                                                                    \n",
      "      Cakes,                                                                                       \n",
      "      Spices}             => {Rice}             0.0001123722          1 0.0001123722 27.13110     1\n",
      "[3]  {Eggs,                                                                                        \n",
      "      Health Drinks,                                                                               \n",
      "      Soft Drinks}        => {Dals & Pulses}    0.0001123722          1 0.0001123722 26.09677     1\n",
      "[4]  {Chicken,                                                                                     \n",
      "      Edible Oil & Ghee,                                                                           \n",
      "      Fish}               => {Organic Fruits}   0.0001123722          1 0.0001123722 25.71965     1\n",
      "[5]  {Edible Oil & Ghee,                                                                           \n",
      "      Rice,                                                                                        \n",
      "      Soft Drinks}        => {Chicken}          0.0001123722          1 0.0001123722 25.64553     1\n",
      "[6]  {Edible Oil & Ghee,                                                                           \n",
      "      Fish,                                                                                        \n",
      "      Organic Fruits}     => {Chicken}          0.0001123722          1 0.0001123722 25.64553     1\n",
      "[7]  {Health Drinks,                                                                               \n",
      "      Organic Fruits,                                                                              \n",
      "      Soft Drinks}        => {Chicken}          0.0001123722          1 0.0001123722 25.64553     1\n",
      "[8]  {Biscuits,                                                                                    \n",
      "      Health Drinks,                                                                               \n",
      "      Soft Drinks}        => {Chicken}          0.0001123722          1 0.0001123722 25.64553     1\n",
      "[9]  {Breads & Buns,                                                                               \n",
      "      Chicken,                                                                                     \n",
      "      Soft Drinks}        => {Fresh Vegetables} 0.0001123722          1 0.0001123722 25.35328     1\n",
      "[10] {Biscuits,                                                                                    \n",
      "      Breads & Buns,                                                                               \n",
      "      Spices}             => {Fresh Vegetables} 0.0001123722          1 0.0001123722 25.35328     1\n",
      "[11] {Biscuits,                                                                                    \n",
      "      Soft Drinks,                                                                                 \n",
      "      Spices}             => {Fresh Vegetables} 0.0001123722          1 0.0001123722 25.35328     1\n",
      "[12] {Biscuits,                                                                                    \n",
      "      Cookies,                                                                                     \n",
      "      Masalas}            => {Fresh Vegetables} 0.0001123722          1 0.0001123722 25.35328     1\n",
      "[13] {Biscuits,                                                                                    \n",
      "      Breads & Buns,                                                                               \n",
      "      Soft Drinks}        => {Fresh Vegetables} 0.0001123722          1 0.0001123722 25.35328     1\n",
      "[14] {Biscuits,                                                                                    \n",
      "      Breads & Buns,                                                                               \n",
      "      Soft Drinks,                                                                                 \n",
      "      Spices}             => {Fresh Vegetables} 0.0001123722          1 0.0001123722 25.35328     1\n",
      "[15] {Chicken,                                                                                     \n",
      "      Edible Oil & Ghee,                                                                           \n",
      "      Organic Fruits}     => {Fish}             0.0001123722          1 0.0001123722 24.18207     1\n"
     ]
    }
   ],
   "source": [
    "# Top 15 rules based on support\n",
    "top_support <- head(sort(rules, by = \"support\"), 5)\n",
    "\n",
    "# Top 15 rules based on confidence\n",
    "top_confidence <- head(sort(rules, by = \"confidence\"), 15)\n",
    "\n",
    "# Top 15 rules based on lift\n",
    "top_lift <- head(sort(rules, by = \"lift\"), 15)\n",
    "\n",
    "# Print the top rules for each metric\n",
    "print(\"Top 15 rules based on support:\")\n",
    "inspect(top_support)\n",
    "\n",
    "print(\"Top 15 rules based on confidence:\")\n",
    "inspect(top_confidence)\n",
    "\n",
    "print(\"Top 15 rules based on lift:\")\n",
    "inspect(top_lift)"
   ]
  },
  {
   "cell_type": "code",
   "execution_count": 62,
   "metadata": {
    "vscode": {
     "languageId": "r"
    }
   },
   "outputs": [
    {
     "data": {
      "image/png": "[encoded data removed]",
      "text/plain": [
       "plot without title"
      ]
     },
     "metadata": {
      "image/png": {
       "height": 420,
       "width": 420
      }
     },
     "output_type": "display_data"
    }
   ],
   "source": [
    "# Create the network graph\n",
    "\n",
    "library(arulesViz)\n",
    "\n",
    "network <- plot(top_confidence, method = \"graph\")\n",
    "\n",
    "# Visualize the network graph\n",
    "plot(network)"
   ]
  }
 ],
 "metadata": {
  "kernelspec": {
   "display_name": "R",
   "language": "R",
   "name": "ir"
  },
  "language_info": {
   "codemirror_mode": "r",
   "file_extension": ".r",
   "mimetype": "text/x-r-source",
   "name": "R",
   "pygments_lexer": "r",
   "version": "4.3.2"
  }
 },
 "nbformat": 4,
 "nbformat_minor": 2
}
