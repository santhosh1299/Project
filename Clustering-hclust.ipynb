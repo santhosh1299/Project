{
 "cells": [
  {
   "cell_type": "code",
   "execution_count": 1,
   "metadata": {
    "vscode": {
     "languageId": "r"
    }
   },
   "outputs": [
    {
     "name": "stderr",
     "output_type": "stream",
     "text": [
      "\u001b[1m\u001b[22mNew names:\n",
      "\u001b[36m•\u001b[39m `` -> `...1`\n"
     ]
    }
   ],
   "source": [
    "library(readxl)\n",
    "\n",
    "# Read the Excel file\n",
    "df <- read_excel(\"data/cleaned_dataset/experiment_data/discharge_df_v7.xlsx\")"
   ]
  },
  {
   "cell_type": "code",
   "execution_count": 4,
   "metadata": {
    "vscode": {
     "languageId": "r"
    }
   },
   "outputs": [
    {
     "data": {
      "text/html": [
       "<table class=\"dataframe\">\n",
       "<caption>A tibble: 6 × 6</caption>\n",
       "<thead>\n",
       "\t<tr><th scope=col>...1</th><th scope=col>Voltage_measured_mean</th><th scope=col>Current_measured_mean</th><th scope=col>Temperature_measured_mean</th><th scope=col>Current_load_mean</th><th scope=col>Voltage_load_mean</th></tr>\n",
       "\t<tr><th scope=col>&lt;dbl&gt;</th><th scope=col>&lt;dbl&gt;</th><th scope=col>&lt;dbl&gt;</th><th scope=col>&lt;dbl&gt;</th><th scope=col>&lt;dbl&gt;</th><th scope=col>&lt;dbl&gt;</th></tr>\n",
       "</thead>\n",
       "<tbody>\n",
       "\t<tr><td>0</td><td>0.5200486</td><td>0.5466602</td><td>0.5123120</td><td>2.918530e-02</td><td>0.6309466</td></tr>\n",
       "\t<tr><td>1</td><td>0.5159800</td><td>0.5338873</td><td>0.5132830</td><td>1.695041e-02</td><td>0.6490249</td></tr>\n",
       "\t<tr><td>2</td><td>0.5341535</td><td>0.5031276</td><td>0.5043716</td><td>0.000000e+00</td><td>0.6964556</td></tr>\n",
       "\t<tr><td>3</td><td>0.5239452</td><td>0.5469496</td><td>0.5151385</td><td>2.935154e-02</td><td>0.6294276</td></tr>\n",
       "\t<tr><td>4</td><td>0.5211515</td><td>0.5341601</td><td>0.5153783</td><td>1.705423e-02</td><td>0.6516381</td></tr>\n",
       "\t<tr><td>5</td><td>0.5365096</td><td>0.5031924</td><td>0.5071499</td><td>2.610749e-05</td><td>0.6979773</td></tr>\n",
       "</tbody>\n",
       "</table>\n"
      ],
      "text/latex": [
       "A tibble: 6 × 6\n",
       "\\begin{tabular}{llllll}\n",
       " ...1 & Voltage\\_measured\\_mean & Current\\_measured\\_mean & Temperature\\_measured\\_mean & Current\\_load\\_mean & Voltage\\_load\\_mean\\\\\n",
       " <dbl> & <dbl> & <dbl> & <dbl> & <dbl> & <dbl>\\\\\n",
       "\\hline\n",
       "\t 0 & 0.5200486 & 0.5466602 & 0.5123120 & 2.918530e-02 & 0.6309466\\\\\n",
       "\t 1 & 0.5159800 & 0.5338873 & 0.5132830 & 1.695041e-02 & 0.6490249\\\\\n",
       "\t 2 & 0.5341535 & 0.5031276 & 0.5043716 & 0.000000e+00 & 0.6964556\\\\\n",
       "\t 3 & 0.5239452 & 0.5469496 & 0.5151385 & 2.935154e-02 & 0.6294276\\\\\n",
       "\t 4 & 0.5211515 & 0.5341601 & 0.5153783 & 1.705423e-02 & 0.6516381\\\\\n",
       "\t 5 & 0.5365096 & 0.5031924 & 0.5071499 & 2.610749e-05 & 0.6979773\\\\\n",
       "\\end{tabular}\n"
      ],
      "text/markdown": [
       "\n",
       "A tibble: 6 × 6\n",
       "\n",
       "| ...1 &lt;dbl&gt; | Voltage_measured_mean &lt;dbl&gt; | Current_measured_mean &lt;dbl&gt; | Temperature_measured_mean &lt;dbl&gt; | Current_load_mean &lt;dbl&gt; | Voltage_load_mean &lt;dbl&gt; |\n",
       "|---|---|---|---|---|---|\n",
       "| 0 | 0.5200486 | 0.5466602 | 0.5123120 | 2.918530e-02 | 0.6309466 |\n",
       "| 1 | 0.5159800 | 0.5338873 | 0.5132830 | 1.695041e-02 | 0.6490249 |\n",
       "| 2 | 0.5341535 | 0.5031276 | 0.5043716 | 0.000000e+00 | 0.6964556 |\n",
       "| 3 | 0.5239452 | 0.5469496 | 0.5151385 | 2.935154e-02 | 0.6294276 |\n",
       "| 4 | 0.5211515 | 0.5341601 | 0.5153783 | 1.705423e-02 | 0.6516381 |\n",
       "| 5 | 0.5365096 | 0.5031924 | 0.5071499 | 2.610749e-05 | 0.6979773 |\n",
       "\n"
      ],
      "text/plain": [
       "  ...1 Voltage_measured_mean Current_measured_mean Temperature_measured_mean\n",
       "1 0    0.5200486             0.5466602             0.5123120                \n",
       "2 1    0.5159800             0.5338873             0.5132830                \n",
       "3 2    0.5341535             0.5031276             0.5043716                \n",
       "4 3    0.5239452             0.5469496             0.5151385                \n",
       "5 4    0.5211515             0.5341601             0.5153783                \n",
       "6 5    0.5365096             0.5031924             0.5071499                \n",
       "  Current_load_mean Voltage_load_mean\n",
       "1 2.918530e-02      0.6309466        \n",
       "2 1.695041e-02      0.6490249        \n",
       "3 0.000000e+00      0.6964556        \n",
       "4 2.935154e-02      0.6294276        \n",
       "5 1.705423e-02      0.6516381        \n",
       "6 2.610749e-05      0.6979773        "
      ]
     },
     "metadata": {},
     "output_type": "display_data"
    }
   ],
   "source": [
    "head(df)\n",
    "\n",
    "df <- df[, -1]"
   ]
  },
  {
   "cell_type": "code",
   "execution_count": 5,
   "metadata": {
    "vscode": {
     "languageId": "r"
    }
   },
   "outputs": [
    {
     "name": "stderr",
     "output_type": "stream",
     "text": [
      "\n",
      "Attaching package: 'proxy'\n",
      "\n",
      "\n",
      "The following objects are masked from 'package:stats':\n",
      "\n",
      "    as.dist, dist\n",
      "\n",
      "\n",
      "The following object is masked from 'package:base':\n",
      "\n",
      "    as.matrix\n",
      "\n",
      "\n"
     ]
    },
    {
     "data": {
      "image/png": "[encoded data removed]",
      "text/plain": [
       "Plot with title \"Cluster Dendrogram\""
      ]
     },
     "metadata": {
      "image/png": {
       "height": 420,
       "width": 420
      }
     },
     "output_type": "display_data"
    }
   ],
   "source": [
    "# Load required libraries\n",
    "library(proxy)\n",
    "\n",
    "\n",
    "# df <- read.csv('your_data.csv')tg=i0 kopl\n",
    "\n",
    "# Define a custom distance function for cosine similarity\n",
    "cosine_distance <- function(x, y) {\n",
    "  1 - sum(x * y) / (sqrt(sum(x^2)) * sqrt(sum(y^2)))\n",
    "}\n",
    "\n",
    "# Calculate the cosine distance matrix\n",
    "dist_matrix <- proxy::dist(df, method = cosine_distance)\n",
    "\n",
    "# Perform hierarchical clustering\n",
    "hc <- hclust(dist_matrix)\n",
    "\n",
    "# Plot the dendrogram\n",
    "plot(hc)"
   ]
  },
  {
   "cell_type": "code",
   "execution_count": 6,
   "metadata": {
    "vscode": {
     "languageId": "r"
    }
   },
   "outputs": [
    {
     "name": "stderr",
     "output_type": "stream",
     "text": [
      "Loading required package: ggplot2\n",
      "\n",
      "Welcome! Want to learn more? See two factoextra-related books at https://goo.gl/ve3WBa\n",
      "\n",
      "Warning message:\n",
      "\"\u001b[1m\u001b[22mThe `<scale>` argument of `guides()` cannot be `FALSE`. Use \"none\" instead as\n",
      "of ggplot2 3.3.4.\n",
      "\u001b[36mℹ\u001b[39m The deprecated feature was likely used in the \u001b[34mfactoextra\u001b[39m package.\n",
      "  Please report the issue at \u001b[3m\u001b[34m<https://github.com/kassambara/factoextra/issues>\u001b[39m\u001b[23m.\"\n"
     ]
    },
    {
     "ename": "",
     "evalue": "",
     "output_type": "error",
     "traceback": [
      "\u001b[1;31mThe Kernel crashed while executing code in the current cell or a previous cell. \n",
      "\u001b[1;31mPlease review the code in the cell(s) to identify a possible cause of the failure. \n",
      "\u001b[1;31mClick <a href='https://aka.ms/vscodeJupyterKernelCrash'>here</a> for more info. \n",
      "\u001b[1;31mView Jupyter <a href='command:jupyter.viewOutput'>log</a> for further details."
     ]
    }
   ],
   "source": [
    "# Load required libraries\n",
    "library(factoextra)\n",
    "\n",
    "# Assuming hc is the result of hierarchical clustering using hclust\n",
    "\n",
    "# Visualize the dendrogram with k-means suggested number of clusters\n",
    "fviz_dend(hc, k = 11, cex = 0.6, rect = TRUE)\n"
   ]
  },
  {
   "cell_type": "code",
   "execution_count": null,
   "metadata": {
    "vscode": {
     "languageId": "r"
    }
   },
   "outputs": [],
   "source": []
  },
  {
   "cell_type": "code",
   "execution_count": null,
   "metadata": {
    "vscode": {
     "languageId": "r"
    }
   },
   "outputs": [],
   "source": []
  }
 ],
 "metadata": {
  "kernelspec": {
   "display_name": "R",
   "language": "R",
   "name": "ir"
  },
  "language_info": {
   "codemirror_mode": "r",
   "file_extension": ".r",
   "mimetype": "text/x-r-source",
   "name": "R",
   "pygments_lexer": "r",
   "version": "4.3.2"
  }
 },
 "nbformat": 4,
 "nbformat_minor": 2
}
