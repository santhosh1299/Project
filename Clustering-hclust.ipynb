{
 "cells": [
  {
   "cell_type": "code",
   "execution_count": 1,
   "metadata": {
    "vscode": {
     "languageId": "r"
    }
   },
   "outputs": [
    {
     "name": "stderr",
     "output_type": "stream",
     "text": [
      "\u001b[1m\u001b[22mNew names:\n",
      "\u001b[36m•\u001b[39m `` -> `...1`\n"
     ]
    }
   ],
   "source": [
    "library(readxl)\n",
    "\n",
    "# Read the Excel file\n",
    "df1 <- read_excel(\"data/cleaned_dataset/experiment_data/discharge_df_v8.xlsx\")"
   ]
  },
  {
   "cell_type": "code",
   "execution_count": 5,
   "metadata": {
    "vscode": {
     "languageId": "r"
    }
   },
   "outputs": [
    {
     "data": {
      "text/html": [
       "<style>\n",
       ".list-inline {list-style: none; margin:0; padding: 0}\n",
       ".list-inline>li {display: inline-block}\n",
       ".list-inline>li:not(:last-child)::after {content: \"\\00b7\"; padding: 0 .5ex}\n",
       "</style>\n",
       "<ol class=list-inline><li>'Voltage_measured_mean'</li><li>'Current_measured_mean'</li><li>'Temperature_measured_mean'</li><li>'Current_load_mean'</li><li>'Voltage_load_mean'</li></ol>\n"
      ],
      "text/latex": [
       "\\begin{enumerate*}\n",
       "\\item 'Voltage\\_measured\\_mean'\n",
       "\\item 'Current\\_measured\\_mean'\n",
       "\\item 'Temperature\\_measured\\_mean'\n",
       "\\item 'Current\\_load\\_mean'\n",
       "\\item 'Voltage\\_load\\_mean'\n",
       "\\end{enumerate*}\n"
      ],
      "text/markdown": [
       "1. 'Voltage_measured_mean'\n",
       "2. 'Current_measured_mean'\n",
       "3. 'Temperature_measured_mean'\n",
       "4. 'Current_load_mean'\n",
       "5. 'Voltage_load_mean'\n",
       "\n",
       "\n"
      ],
      "text/plain": [
       "[1] \"Voltage_measured_mean\"     \"Current_measured_mean\"    \n",
       "[3] \"Temperature_measured_mean\" \"Current_load_mean\"        \n",
       "[5] \"Voltage_load_mean\"        "
      ]
     },
     "metadata": {},
     "output_type": "display_data"
    }
   ],
   "source": [
    "# Select specific columns using subset()\n",
    "df<- subset(df1, select = c('Voltage_measured_mean','Current_measured_mean','Temperature_measured_mean','Current_load_mean','Voltage_load_mean')) \n",
    "\n",
    "\n",
    "colnames(df)"
   ]
  },
  {
   "cell_type": "markdown",
   "metadata": {},
   "source": []
  },
  {
   "cell_type": "code",
   "execution_count": 46,
   "metadata": {
    "vscode": {
     "languageId": "r"
    }
   },
   "outputs": [],
   "source": [
    "# head(df)\n",
    "\n",
    "# df <- df[, -1]"
   ]
  },
  {
   "cell_type": "code",
   "execution_count": 9,
   "metadata": {
    "vscode": {
     "languageId": "r"
    }
   },
   "outputs": [],
   "source": [
    "# Load required libraries\n",
    "library(proxy)\n",
    "library(tidyverse)\n",
    "library(dplyr)\n",
    "library(proxy)\n",
    "library(dplyr)\n",
    "library(factoextra)\n"
   ]
  },
  {
   "cell_type": "code",
   "execution_count": 12,
   "metadata": {
    "vscode": {
     "languageId": "r"
    }
   },
   "outputs": [
    {
     "data": {
      "image/png": "[encoded data removed]",
      "text/plain": [
       "Plot with title \"cosine\""
      ]
     },
     "metadata": {
      "image/png": {
       "height": 420,
       "width": 420
      }
     },
     "output_type": "display_data"
    }
   ],
   "source": [
    "\n",
    "# Compute cosine distance matrix\n",
    "cosine_dist <- dist(df, method = \"cosine\")\n",
    "\n",
    "# Perform hierarchical clustering with cosine distance\n",
    "hc <- hclust(cosine_dist, method = 'complete')\n",
    "\n",
    "# Determine the height for cutting the dendrogram\n",
    "k <- 6\n",
    "height <- hc$height[length(hc$height) - k + 1]  # Height of the 6th cluster\n",
    "\n",
    "# Cut the dendrogram at the determined height\n",
    "cluster_labels <- cutree(hc, h = height)\n",
    "\n",
    "# Plot the dendrogram\n",
    "plot(hc, cex=0.9, hang=-1, main = \"cosine\")\n",
    "rect.hclust(hc, k=k)\n"
   ]
  },
  {
   "cell_type": "code",
   "execution_count": 13,
   "metadata": {
    "vscode": {
     "languageId": "r"
    }
   },
   "outputs": [
    {
     "data": {
      "text/html": [
       "'numeric'"
      ],
      "text/latex": [
       "'numeric'"
      ],
      "text/markdown": [
       "'numeric'"
      ],
      "text/plain": [
       "[1] \"numeric\""
      ]
     },
     "metadata": {},
     "output_type": "display_data"
    }
   ],
   "source": [
    "class(df$Temperature_measured_mean)"
   ]
  },
  {
   "cell_type": "code",
   "execution_count": 14,
   "metadata": {
    "vscode": {
     "languageId": "r"
    }
   },
   "outputs": [
    {
     "data": {
      "image/png": "[encoded data removed]",
      "text/plain": [
       "Plot with title \"Scatter Plot with Cluster Labels\""
      ]
     },
     "metadata": {
      "image/png": {
       "height": 420,
       "width": 420
      }
     },
     "output_type": "display_data"
    }
   ],
   "source": [
    "clusters <- cutree(hc, k)\n",
    "\n",
    "# Assign cluster labels to your data\n",
    "cluster_labels <- as.factor(clusters)\n",
    "\n",
    "\n",
    "plot( df$Temperature_measured_mean,df$Voltage_measured_mean, col = cluster_labels, pch = 16,\n",
    "     xlab = \"Voltage_measured_mean\", ylab = \"Temperature measured mean\",\n",
    "     main = \"Scatter Plot with Cluster Labels\")\n",
    "\n",
    "     legend(\"topright\", legend = unique(cluster_labels), col = unique(cluster_labels), pch = 16,\n",
    "       title = \"Cluster Labels\")\n"
   ]
  },
  {
   "cell_type": "code",
   "execution_count": 15,
   "metadata": {
    "vscode": {
     "languageId": "r"
    }
   },
   "outputs": [
    {
     "data": {
      "text/html": [
       "<style>\n",
       ".list-inline {list-style: none; margin:0; padding: 0}\n",
       ".list-inline>li {display: inline-block}\n",
       ".list-inline>li:not(:last-child)::after {content: \"\\00b7\"; padding: 0 .5ex}\n",
       "</style>\n",
       "<ol class=list-inline><li>'Voltage_measured_mean'</li><li>'Current_measured_mean'</li><li>'Temperature_measured_mean'</li><li>'Current_load_mean'</li><li>'Voltage_load_mean'</li></ol>\n"
      ],
      "text/latex": [
       "\\begin{enumerate*}\n",
       "\\item 'Voltage\\_measured\\_mean'\n",
       "\\item 'Current\\_measured\\_mean'\n",
       "\\item 'Temperature\\_measured\\_mean'\n",
       "\\item 'Current\\_load\\_mean'\n",
       "\\item 'Voltage\\_load\\_mean'\n",
       "\\end{enumerate*}\n"
      ],
      "text/markdown": [
       "1. 'Voltage_measured_mean'\n",
       "2. 'Current_measured_mean'\n",
       "3. 'Temperature_measured_mean'\n",
       "4. 'Current_load_mean'\n",
       "5. 'Voltage_load_mean'\n",
       "\n",
       "\n"
      ],
      "text/plain": [
       "[1] \"Voltage_measured_mean\"     \"Current_measured_mean\"    \n",
       "[3] \"Temperature_measured_mean\" \"Current_load_mean\"        \n",
       "[5] \"Voltage_load_mean\"        "
      ]
     },
     "metadata": {},
     "output_type": "display_data"
    }
   ],
   "source": [
    "colnames(df)"
   ]
  },
  {
   "cell_type": "code",
   "execution_count": 16,
   "metadata": {
    "vscode": {
     "languageId": "r"
    }
   },
   "outputs": [
    {
     "data": {
      "image/png": "[encoded data removed]",
      "text/plain": [
       "Plot with title \"cosine\""
      ]
     },
     "metadata": {
      "image/png": {
       "height": 420,
       "width": 420
      }
     },
     "output_type": "display_data"
    }
   ],
   "source": [
    "# Load required libraries\n",
    "library(proxy)\n",
    "library(tidyverse)\n",
    "library(dplyr)\n",
    "library(proxy)\n",
    "library(dplyr)\n",
    "library(factoextra)\n",
    "\n",
    "# Compute cosine distance matrix\n",
    "cosine_dist <- dist(df, method = \"cosine\")\n",
    "\n",
    "# Perform hierarchical clustering with cosine distance\n",
    "hc <- hclust(cosine_dist, method = 'average')\n",
    "\n",
    "# Cut the dendrogram into k clusters\n",
    "k <- 6\n",
    "cluster_labels <- cutree(hc, k)\n",
    "\n",
    "# Plot the dendogram\n",
    "plot(hc, cex=0.9, hang=-1, main = \"cosine\")\n",
    "rect.hclust(hc, k=k)\n"
   ]
  },
  {
   "cell_type": "code",
   "execution_count": 50,
   "metadata": {
    "vscode": {
     "languageId": "r"
    }
   },
   "outputs": [
    {
     "data": {
      "image/png": "[encoded data removed]",
      "text/plain": [
       "Plot with title \"cosine\""
      ]
     },
     "metadata": {
      "image/png": {
       "height": 420,
       "width": 420
      }
     },
     "output_type": "display_data"
    }
   ],
   "source": [
    "# Load required libraries\n",
    "library(proxy)\n",
    "library(tidyverse)\n",
    "library(dplyr)\n",
    "library(proxy)\n",
    "library(dplyr)\n",
    "library(factoextra)\n",
    "\n",
    "# Compute cosine distance matrix\n",
    "cosine_dist <- dist(df, method = \"cosine\")\n",
    "\n",
    "# Perform hierarchical clustering with cosine distance\n",
    "hc <- hclust(cosine_dist, method = 'single')\n",
    "\n",
    "# Cut the dendrogram into k clusters\n",
    "k <- 6\n",
    "cluster_labels <- cutree(hc, k)\n",
    "\n",
    "# Plot the dendogram\n",
    "plot(hc, cex=0.9, hang=-1, main = \"cosine\")\n",
    "rect.hclust(hc, k=k)\n"
   ]
  },
  {
   "cell_type": "code",
   "execution_count": null,
   "metadata": {
    "vscode": {
     "languageId": "r"
    }
   },
   "outputs": [],
   "source": []
  }
 ],
 "metadata": {
  "kernelspec": {
   "display_name": "R",
   "language": "R",
   "name": "ir"
  },
  "language_info": {
   "codemirror_mode": "r",
   "file_extension": ".r",
   "mimetype": "text/x-r-source",
   "name": "R",
   "pygments_lexer": "r",
   "version": "4.3.2"
  }
 },
 "nbformat": 4,
 "nbformat_minor": 2
}
